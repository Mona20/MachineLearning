{
 "cells": [
  {
   "cell_type": "code",
   "execution_count": 25,
   "metadata": {},
   "outputs": [],
   "source": [
    "import pandas as pd\n",
    "import numpy as np"
   ]
  },
  {
   "cell_type": "code",
   "execution_count": 2,
   "metadata": {},
   "outputs": [],
   "source": [
    "df=pd.read_csv('t-shirts.csv')"
   ]
  },
  {
   "cell_type": "code",
   "execution_count": 3,
   "metadata": {},
   "outputs": [
    {
     "data": {
      "text/html": [
       "<div>\n",
       "<style scoped>\n",
       "    .dataframe tbody tr th:only-of-type {\n",
       "        vertical-align: middle;\n",
       "    }\n",
       "\n",
       "    .dataframe tbody tr th {\n",
       "        vertical-align: top;\n",
       "    }\n",
       "\n",
       "    .dataframe thead th {\n",
       "        text-align: right;\n",
       "    }\n",
       "</style>\n",
       "<table border=\"1\" class=\"dataframe\">\n",
       "  <thead>\n",
       "    <tr style=\"text-align: right;\">\n",
       "      <th></th>\n",
       "      <th>Date ordered</th>\n",
       "      <th>Order number</th>\n",
       "      <th>Brand</th>\n",
       "      <th>Size</th>\n",
       "      <th>Color</th>\n",
       "      <th>Design</th>\n",
       "      <th>Price</th>\n",
       "      <th>Delivery status</th>\n",
       "    </tr>\n",
       "  </thead>\n",
       "  <tbody>\n",
       "    <tr>\n",
       "      <th>0</th>\n",
       "      <td>2016-05-05</td>\n",
       "      <td>SDH-YU0</td>\n",
       "      <td>Yolo</td>\n",
       "      <td>L</td>\n",
       "      <td>red</td>\n",
       "      <td>spiral</td>\n",
       "      <td>14.47</td>\n",
       "      <td>damaged</td>\n",
       "    </tr>\n",
       "    <tr>\n",
       "      <th>1</th>\n",
       "      <td>2016-05-06</td>\n",
       "      <td>SDH-YU1</td>\n",
       "      <td>Yolo</td>\n",
       "      <td>XXL</td>\n",
       "      <td>green</td>\n",
       "      <td>spiral</td>\n",
       "      <td>16.24</td>\n",
       "      <td>delayed</td>\n",
       "    </tr>\n",
       "    <tr>\n",
       "      <th>2</th>\n",
       "      <td>2016-05-07</td>\n",
       "      <td>SDH-YU2</td>\n",
       "      <td>BLOT</td>\n",
       "      <td>XL</td>\n",
       "      <td>black</td>\n",
       "      <td>Stripes</td>\n",
       "      <td>14.32</td>\n",
       "      <td>delivered</td>\n",
       "    </tr>\n",
       "    <tr>\n",
       "      <th>3</th>\n",
       "      <td>2016-05-08</td>\n",
       "      <td>SDH-YU3</td>\n",
       "      <td>Kent</td>\n",
       "      <td>XXL</td>\n",
       "      <td>green</td>\n",
       "      <td>plain</td>\n",
       "      <td>14.07</td>\n",
       "      <td>damaged</td>\n",
       "    </tr>\n",
       "    <tr>\n",
       "      <th>4</th>\n",
       "      <td>2016-05-09</td>\n",
       "      <td>SDH-YU4</td>\n",
       "      <td>BUCK</td>\n",
       "      <td>XL</td>\n",
       "      <td>white</td>\n",
       "      <td>spiral</td>\n",
       "      <td>15.56</td>\n",
       "      <td>order received</td>\n",
       "    </tr>\n",
       "  </tbody>\n",
       "</table>\n",
       "</div>"
      ],
      "text/plain": [
       "  Date ordered Order number Brand Size  Color   Design  Price Delivery status\n",
       "0   2016-05-05      SDH-YU0  Yolo    L    red   spiral  14.47         damaged\n",
       "1   2016-05-06      SDH-YU1  Yolo  XXL  green   spiral  16.24         delayed\n",
       "2   2016-05-07      SDH-YU2  BLOT   XL  black  Stripes  14.32       delivered\n",
       "3   2016-05-08      SDH-YU3  Kent  XXL  green    plain  14.07         damaged\n",
       "4   2016-05-09      SDH-YU4  BUCK   XL  white   spiral  15.56  order received"
      ]
     },
     "execution_count": 3,
     "metadata": {},
     "output_type": "execute_result"
    }
   ],
   "source": [
    "df.head()"
   ]
  },
  {
   "cell_type": "code",
   "execution_count": 4,
   "metadata": {},
   "outputs": [
    {
     "data": {
      "text/plain": [
       "(500, 8)"
      ]
     },
     "execution_count": 4,
     "metadata": {},
     "output_type": "execute_result"
    }
   ],
   "source": [
    "df.shape"
   ]
  },
  {
   "cell_type": "code",
   "execution_count": 5,
   "metadata": {},
   "outputs": [
    {
     "name": "stdout",
     "output_type": "stream",
     "text": [
      "<class 'pandas.core.frame.DataFrame'>\n",
      "RangeIndex: 500 entries, 0 to 499\n",
      "Data columns (total 8 columns):\n",
      " #   Column           Non-Null Count  Dtype  \n",
      "---  ------           --------------  -----  \n",
      " 0   Date ordered     500 non-null    object \n",
      " 1   Order number     500 non-null    object \n",
      " 2   Brand            500 non-null    object \n",
      " 3   Size             500 non-null    object \n",
      " 4   Color            500 non-null    object \n",
      " 5   Design           500 non-null    object \n",
      " 6   Price            500 non-null    float64\n",
      " 7   Delivery status  500 non-null    object \n",
      "dtypes: float64(1), object(7)\n",
      "memory usage: 31.4+ KB\n"
     ]
    }
   ],
   "source": [
    "df.info()"
   ]
  },
  {
   "cell_type": "code",
   "execution_count": 6,
   "metadata": {},
   "outputs": [
    {
     "data": {
      "text/plain": [
       "diamond    117\n",
       "checked    107\n",
       "Stripes    106\n",
       "spiral      89\n",
       "plain       81\n",
       "Name: Design, dtype: int64"
      ]
     },
     "execution_count": 6,
     "metadata": {},
     "output_type": "execute_result"
    }
   ],
   "source": [
    "df['Design'].value_counts()"
   ]
  },
  {
   "cell_type": "code",
   "execution_count": 7,
   "metadata": {},
   "outputs": [],
   "source": [
    "#convert category to numerical\n",
    "from sklearn.preprocessing import LabelEncoder\n",
    "df=pd.get_dummies(df,columns=['Brand','Size','Color','Design'],drop_first=True)"
   ]
  },
  {
   "cell_type": "code",
   "execution_count": 8,
   "metadata": {},
   "outputs": [
    {
     "data": {
      "text/html": [
       "<div>\n",
       "<style scoped>\n",
       "    .dataframe tbody tr th:only-of-type {\n",
       "        vertical-align: middle;\n",
       "    }\n",
       "\n",
       "    .dataframe tbody tr th {\n",
       "        vertical-align: top;\n",
       "    }\n",
       "\n",
       "    .dataframe thead th {\n",
       "        text-align: right;\n",
       "    }\n",
       "</style>\n",
       "<table border=\"1\" class=\"dataframe\">\n",
       "  <thead>\n",
       "    <tr style=\"text-align: right;\">\n",
       "      <th></th>\n",
       "      <th>Date ordered</th>\n",
       "      <th>Order number</th>\n",
       "      <th>Price</th>\n",
       "      <th>Delivery status</th>\n",
       "      <th>Brand_BUCK</th>\n",
       "      <th>Brand_Kent</th>\n",
       "      <th>Brand_Wang</th>\n",
       "      <th>Brand_Yolo</th>\n",
       "      <th>Size_M</th>\n",
       "      <th>Size_S</th>\n",
       "      <th>...</th>\n",
       "      <th>Size_XXL</th>\n",
       "      <th>Color_green</th>\n",
       "      <th>Color_indigo</th>\n",
       "      <th>Color_purple</th>\n",
       "      <th>Color_red</th>\n",
       "      <th>Color_white</th>\n",
       "      <th>Design_checked</th>\n",
       "      <th>Design_diamond</th>\n",
       "      <th>Design_plain</th>\n",
       "      <th>Design_spiral</th>\n",
       "    </tr>\n",
       "  </thead>\n",
       "  <tbody>\n",
       "    <tr>\n",
       "      <th>0</th>\n",
       "      <td>2016-05-05</td>\n",
       "      <td>SDH-YU0</td>\n",
       "      <td>14.47</td>\n",
       "      <td>damaged</td>\n",
       "      <td>0</td>\n",
       "      <td>0</td>\n",
       "      <td>0</td>\n",
       "      <td>1</td>\n",
       "      <td>0</td>\n",
       "      <td>0</td>\n",
       "      <td>...</td>\n",
       "      <td>0</td>\n",
       "      <td>0</td>\n",
       "      <td>0</td>\n",
       "      <td>0</td>\n",
       "      <td>1</td>\n",
       "      <td>0</td>\n",
       "      <td>0</td>\n",
       "      <td>0</td>\n",
       "      <td>0</td>\n",
       "      <td>1</td>\n",
       "    </tr>\n",
       "    <tr>\n",
       "      <th>1</th>\n",
       "      <td>2016-05-06</td>\n",
       "      <td>SDH-YU1</td>\n",
       "      <td>16.24</td>\n",
       "      <td>delayed</td>\n",
       "      <td>0</td>\n",
       "      <td>0</td>\n",
       "      <td>0</td>\n",
       "      <td>1</td>\n",
       "      <td>0</td>\n",
       "      <td>0</td>\n",
       "      <td>...</td>\n",
       "      <td>1</td>\n",
       "      <td>1</td>\n",
       "      <td>0</td>\n",
       "      <td>0</td>\n",
       "      <td>0</td>\n",
       "      <td>0</td>\n",
       "      <td>0</td>\n",
       "      <td>0</td>\n",
       "      <td>0</td>\n",
       "      <td>1</td>\n",
       "    </tr>\n",
       "    <tr>\n",
       "      <th>2</th>\n",
       "      <td>2016-05-07</td>\n",
       "      <td>SDH-YU2</td>\n",
       "      <td>14.32</td>\n",
       "      <td>delivered</td>\n",
       "      <td>0</td>\n",
       "      <td>0</td>\n",
       "      <td>0</td>\n",
       "      <td>0</td>\n",
       "      <td>0</td>\n",
       "      <td>0</td>\n",
       "      <td>...</td>\n",
       "      <td>0</td>\n",
       "      <td>0</td>\n",
       "      <td>0</td>\n",
       "      <td>0</td>\n",
       "      <td>0</td>\n",
       "      <td>0</td>\n",
       "      <td>0</td>\n",
       "      <td>0</td>\n",
       "      <td>0</td>\n",
       "      <td>0</td>\n",
       "    </tr>\n",
       "    <tr>\n",
       "      <th>3</th>\n",
       "      <td>2016-05-08</td>\n",
       "      <td>SDH-YU3</td>\n",
       "      <td>14.07</td>\n",
       "      <td>damaged</td>\n",
       "      <td>0</td>\n",
       "      <td>1</td>\n",
       "      <td>0</td>\n",
       "      <td>0</td>\n",
       "      <td>0</td>\n",
       "      <td>0</td>\n",
       "      <td>...</td>\n",
       "      <td>1</td>\n",
       "      <td>1</td>\n",
       "      <td>0</td>\n",
       "      <td>0</td>\n",
       "      <td>0</td>\n",
       "      <td>0</td>\n",
       "      <td>0</td>\n",
       "      <td>0</td>\n",
       "      <td>1</td>\n",
       "      <td>0</td>\n",
       "    </tr>\n",
       "    <tr>\n",
       "      <th>4</th>\n",
       "      <td>2016-05-09</td>\n",
       "      <td>SDH-YU4</td>\n",
       "      <td>15.56</td>\n",
       "      <td>order received</td>\n",
       "      <td>1</td>\n",
       "      <td>0</td>\n",
       "      <td>0</td>\n",
       "      <td>0</td>\n",
       "      <td>0</td>\n",
       "      <td>0</td>\n",
       "      <td>...</td>\n",
       "      <td>0</td>\n",
       "      <td>0</td>\n",
       "      <td>0</td>\n",
       "      <td>0</td>\n",
       "      <td>0</td>\n",
       "      <td>1</td>\n",
       "      <td>0</td>\n",
       "      <td>0</td>\n",
       "      <td>0</td>\n",
       "      <td>1</td>\n",
       "    </tr>\n",
       "    <tr>\n",
       "      <th>...</th>\n",
       "      <td>...</td>\n",
       "      <td>...</td>\n",
       "      <td>...</td>\n",
       "      <td>...</td>\n",
       "      <td>...</td>\n",
       "      <td>...</td>\n",
       "      <td>...</td>\n",
       "      <td>...</td>\n",
       "      <td>...</td>\n",
       "      <td>...</td>\n",
       "      <td>...</td>\n",
       "      <td>...</td>\n",
       "      <td>...</td>\n",
       "      <td>...</td>\n",
       "      <td>...</td>\n",
       "      <td>...</td>\n",
       "      <td>...</td>\n",
       "      <td>...</td>\n",
       "      <td>...</td>\n",
       "      <td>...</td>\n",
       "      <td>...</td>\n",
       "    </tr>\n",
       "    <tr>\n",
       "      <th>495</th>\n",
       "      <td>2017-09-12</td>\n",
       "      <td>SDH-YU495</td>\n",
       "      <td>15.03</td>\n",
       "      <td>damaged</td>\n",
       "      <td>0</td>\n",
       "      <td>0</td>\n",
       "      <td>1</td>\n",
       "      <td>0</td>\n",
       "      <td>0</td>\n",
       "      <td>0</td>\n",
       "      <td>...</td>\n",
       "      <td>0</td>\n",
       "      <td>1</td>\n",
       "      <td>0</td>\n",
       "      <td>0</td>\n",
       "      <td>0</td>\n",
       "      <td>0</td>\n",
       "      <td>0</td>\n",
       "      <td>1</td>\n",
       "      <td>0</td>\n",
       "      <td>0</td>\n",
       "    </tr>\n",
       "    <tr>\n",
       "      <th>496</th>\n",
       "      <td>2017-09-13</td>\n",
       "      <td>SDH-YU496</td>\n",
       "      <td>14.49</td>\n",
       "      <td>shipping</td>\n",
       "      <td>1</td>\n",
       "      <td>0</td>\n",
       "      <td>0</td>\n",
       "      <td>0</td>\n",
       "      <td>1</td>\n",
       "      <td>0</td>\n",
       "      <td>...</td>\n",
       "      <td>0</td>\n",
       "      <td>0</td>\n",
       "      <td>0</td>\n",
       "      <td>0</td>\n",
       "      <td>0</td>\n",
       "      <td>0</td>\n",
       "      <td>0</td>\n",
       "      <td>0</td>\n",
       "      <td>0</td>\n",
       "      <td>0</td>\n",
       "    </tr>\n",
       "    <tr>\n",
       "      <th>497</th>\n",
       "      <td>2017-09-14</td>\n",
       "      <td>SDH-YU497</td>\n",
       "      <td>15.61</td>\n",
       "      <td>shipping</td>\n",
       "      <td>0</td>\n",
       "      <td>1</td>\n",
       "      <td>0</td>\n",
       "      <td>0</td>\n",
       "      <td>0</td>\n",
       "      <td>0</td>\n",
       "      <td>...</td>\n",
       "      <td>1</td>\n",
       "      <td>0</td>\n",
       "      <td>0</td>\n",
       "      <td>1</td>\n",
       "      <td>0</td>\n",
       "      <td>0</td>\n",
       "      <td>0</td>\n",
       "      <td>0</td>\n",
       "      <td>1</td>\n",
       "      <td>0</td>\n",
       "    </tr>\n",
       "    <tr>\n",
       "      <th>498</th>\n",
       "      <td>2017-09-15</td>\n",
       "      <td>SDH-YU498</td>\n",
       "      <td>13.49</td>\n",
       "      <td>order received</td>\n",
       "      <td>0</td>\n",
       "      <td>0</td>\n",
       "      <td>0</td>\n",
       "      <td>1</td>\n",
       "      <td>0</td>\n",
       "      <td>1</td>\n",
       "      <td>...</td>\n",
       "      <td>0</td>\n",
       "      <td>0</td>\n",
       "      <td>0</td>\n",
       "      <td>0</td>\n",
       "      <td>1</td>\n",
       "      <td>0</td>\n",
       "      <td>0</td>\n",
       "      <td>0</td>\n",
       "      <td>1</td>\n",
       "      <td>0</td>\n",
       "    </tr>\n",
       "    <tr>\n",
       "      <th>499</th>\n",
       "      <td>2017-09-16</td>\n",
       "      <td>SDH-YU499</td>\n",
       "      <td>14.75</td>\n",
       "      <td>shipping</td>\n",
       "      <td>0</td>\n",
       "      <td>0</td>\n",
       "      <td>0</td>\n",
       "      <td>0</td>\n",
       "      <td>0</td>\n",
       "      <td>1</td>\n",
       "      <td>...</td>\n",
       "      <td>0</td>\n",
       "      <td>0</td>\n",
       "      <td>0</td>\n",
       "      <td>0</td>\n",
       "      <td>0</td>\n",
       "      <td>0</td>\n",
       "      <td>0</td>\n",
       "      <td>0</td>\n",
       "      <td>0</td>\n",
       "      <td>1</td>\n",
       "    </tr>\n",
       "  </tbody>\n",
       "</table>\n",
       "<p>500 rows × 22 columns</p>\n",
       "</div>"
      ],
      "text/plain": [
       "    Date ordered Order number  Price Delivery status  Brand_BUCK  Brand_Kent  \\\n",
       "0     2016-05-05      SDH-YU0  14.47         damaged           0           0   \n",
       "1     2016-05-06      SDH-YU1  16.24         delayed           0           0   \n",
       "2     2016-05-07      SDH-YU2  14.32       delivered           0           0   \n",
       "3     2016-05-08      SDH-YU3  14.07         damaged           0           1   \n",
       "4     2016-05-09      SDH-YU4  15.56  order received           1           0   \n",
       "..           ...          ...    ...             ...         ...         ...   \n",
       "495   2017-09-12    SDH-YU495  15.03         damaged           0           0   \n",
       "496   2017-09-13    SDH-YU496  14.49        shipping           1           0   \n",
       "497   2017-09-14    SDH-YU497  15.61        shipping           0           1   \n",
       "498   2017-09-15    SDH-YU498  13.49  order received           0           0   \n",
       "499   2017-09-16    SDH-YU499  14.75        shipping           0           0   \n",
       "\n",
       "     Brand_Wang  Brand_Yolo  Size_M  Size_S  ...  Size_XXL  Color_green  \\\n",
       "0             0           1       0       0  ...         0            0   \n",
       "1             0           1       0       0  ...         1            1   \n",
       "2             0           0       0       0  ...         0            0   \n",
       "3             0           0       0       0  ...         1            1   \n",
       "4             0           0       0       0  ...         0            0   \n",
       "..          ...         ...     ...     ...  ...       ...          ...   \n",
       "495           1           0       0       0  ...         0            1   \n",
       "496           0           0       1       0  ...         0            0   \n",
       "497           0           0       0       0  ...         1            0   \n",
       "498           0           1       0       1  ...         0            0   \n",
       "499           0           0       0       1  ...         0            0   \n",
       "\n",
       "     Color_indigo  Color_purple  Color_red  Color_white  Design_checked  \\\n",
       "0               0             0          1            0               0   \n",
       "1               0             0          0            0               0   \n",
       "2               0             0          0            0               0   \n",
       "3               0             0          0            0               0   \n",
       "4               0             0          0            1               0   \n",
       "..            ...           ...        ...          ...             ...   \n",
       "495             0             0          0            0               0   \n",
       "496             0             0          0            0               0   \n",
       "497             0             1          0            0               0   \n",
       "498             0             0          1            0               0   \n",
       "499             0             0          0            0               0   \n",
       "\n",
       "     Design_diamond  Design_plain  Design_spiral  \n",
       "0                 0             0              1  \n",
       "1                 0             0              1  \n",
       "2                 0             0              0  \n",
       "3                 0             1              0  \n",
       "4                 0             0              1  \n",
       "..              ...           ...            ...  \n",
       "495               1             0              0  \n",
       "496               0             0              0  \n",
       "497               0             1              0  \n",
       "498               0             1              0  \n",
       "499               0             0              1  \n",
       "\n",
       "[500 rows x 22 columns]"
      ]
     },
     "execution_count": 8,
     "metadata": {},
     "output_type": "execute_result"
    }
   ],
   "source": [
    "df"
   ]
  },
  {
   "cell_type": "code",
   "execution_count": 9,
   "metadata": {},
   "outputs": [],
   "source": [
    "feature=df.drop(columns=['Date ordered','Order number','Price','Delivery status'],axis=1)\n",
    "target=df['Price']"
   ]
  },
  {
   "cell_type": "code",
   "execution_count": 10,
   "metadata": {},
   "outputs": [],
   "source": [
    "from sklearn.model_selection import train_test_split\n",
    "X_train, X_test, y_train, y_test = train_test_split(feature, target, test_size=0.2, shuffle=True)"
   ]
  },
  {
   "cell_type": "code",
   "execution_count": 11,
   "metadata": {},
   "outputs": [
    {
     "data": {
      "text/plain": [
       "((400, 18), (400,))"
      ]
     },
     "execution_count": 11,
     "metadata": {},
     "output_type": "execute_result"
    }
   ],
   "source": [
    "X_train.shape,y_train.shape"
   ]
  },
  {
   "cell_type": "code",
   "execution_count": 12,
   "metadata": {},
   "outputs": [],
   "source": [
    "from sklearn.linear_model import LinearRegression"
   ]
  },
  {
   "cell_type": "code",
   "execution_count": 13,
   "metadata": {},
   "outputs": [
    {
     "data": {
      "text/plain": [
       "LinearRegression()"
      ]
     },
     "execution_count": 13,
     "metadata": {},
     "output_type": "execute_result"
    }
   ],
   "source": [
    "model = LinearRegression()\n",
    "\n",
    "model.fit(X_train, y_train)"
   ]
  },
  {
   "cell_type": "code",
   "execution_count": 14,
   "metadata": {},
   "outputs": [],
   "source": [
    "y_pred=model.predict(X_test)"
   ]
  },
  {
   "cell_type": "code",
   "execution_count": 15,
   "metadata": {},
   "outputs": [
    {
     "data": {
      "text/plain": [
       "array([14.83652612, 15.31389342, 14.69682598, 15.11007127, 15.35056985,\n",
       "       15.25895308, 15.18257986, 15.39361109, 15.04924354, 15.02164855,\n",
       "       15.16391857, 14.94983868, 14.88854158, 14.66996712, 14.65606393,\n",
       "       15.40590458, 14.64337922, 15.16665786, 15.26143447, 15.16055691,\n",
       "       14.67644025, 15.38764733, 15.2728907 , 15.25730684, 15.12304119,\n",
       "       14.93302528, 15.19292334, 14.96881845, 15.12322865, 15.31389342,\n",
       "       14.89017313, 15.23368497, 15.3174485 , 14.92208918, 15.12304119,\n",
       "       15.03598704, 15.15351781, 15.13438321, 15.17611197, 15.4044587 ,\n",
       "       15.11371322, 15.18257986, 14.82820845, 15.30606253, 14.73866845,\n",
       "       15.11874192, 14.87673706, 15.03642015, 14.94168119, 14.86965251,\n",
       "       15.00743396, 15.03811227, 15.09503131, 14.96079735, 15.0145073 ,\n",
       "       15.44613383, 15.43830875, 14.8291183 , 15.29691858, 15.06347935,\n",
       "       15.13119927, 15.25191398, 15.17346466, 15.11202362, 15.30354531,\n",
       "       14.84328502, 14.94172909, 14.88600074, 14.94983868, 15.31848855,\n",
       "       14.86229013, 14.72634364, 15.26287832, 14.95753056, 14.84641848,\n",
       "       14.86288009, 15.27258944, 15.12322865, 15.09452717, 14.71024688,\n",
       "       15.06751588, 14.90766068, 15.01062803, 15.30587232, 15.5599135 ,\n",
       "       14.47743687, 15.36599491, 15.20484788, 15.52657981, 14.91562129,\n",
       "       15.26854682, 14.81884359, 14.6057724 , 14.90787455, 14.52713309,\n",
       "       15.16448215, 14.75951547, 15.57106806, 15.30576127, 14.92347184])"
      ]
     },
     "execution_count": 15,
     "metadata": {},
     "output_type": "execute_result"
    }
   ],
   "source": [
    "y_pred"
   ]
  },
  {
   "cell_type": "code",
   "execution_count": 16,
   "metadata": {},
   "outputs": [
    {
     "data": {
      "text/plain": [
       "array([14.52, 14.75, 15.5 , 14.6 , 16.16, 15.22, 16.84, 14.91, 14.14,\n",
       "       12.74, 15.92, 17.29, 13.88, 14.27, 15.54, 14.79, 16.14, 14.09,\n",
       "       15.25, 16.95, 15.68, 14.43, 15.3 , 16.65, 15.45, 15.21, 14.3 ,\n",
       "       14.58, 14.14, 13.48, 15.05, 14.4 , 14.86, 15.87, 14.56, 15.57,\n",
       "       14.04, 14.73, 15.03, 15.22, 13.44, 15.42, 15.7 , 15.26, 13.67,\n",
       "       17.09, 15.45, 16.05, 16.81, 14.62, 14.74, 14.41, 13.97, 13.08,\n",
       "       15.28, 15.24, 14.89, 16.2 , 15.25, 15.56, 16.07, 15.04, 15.35,\n",
       "       15.24, 14.94, 14.13, 15.36, 15.59, 15.12, 15.55, 16.25, 14.43,\n",
       "       15.18, 13.63, 15.32, 15.38, 14.28, 16.44, 14.26, 15.91, 14.73,\n",
       "       16.37, 14.93, 13.76, 17.2 , 14.17, 14.83, 16.05, 16.08, 13.58,\n",
       "       14.49, 14.64, 13.97, 14.28, 14.69, 14.76, 14.96, 13.78, 15.59,\n",
       "       15.39])"
      ]
     },
     "execution_count": 16,
     "metadata": {},
     "output_type": "execute_result"
    }
   ],
   "source": [
    "y_test.values"
   ]
  },
  {
   "cell_type": "code",
   "execution_count": 17,
   "metadata": {},
   "outputs": [
    {
     "data": {
      "text/plain": [
       "59     0.316526\n",
       "94     0.563893\n",
       "339   -0.803174\n",
       "398    0.510071\n",
       "167   -0.809430\n",
       "         ...   \n",
       "35     0.404482\n",
       "391   -0.200485\n",
       "431    1.791068\n",
       "19    -0.284239\n",
       "427   -0.466528\n",
       "Name: Price, Length: 100, dtype: float64"
      ]
     },
     "execution_count": 17,
     "metadata": {},
     "output_type": "execute_result"
    }
   ],
   "source": [
    "y_pred-y_test"
   ]
  },
  {
   "cell_type": "code",
   "execution_count": 18,
   "metadata": {},
   "outputs": [],
   "source": [
    "from sklearn.metrics import confusion_matrix"
   ]
  },
  {
   "cell_type": "code",
   "execution_count": 19,
   "metadata": {},
   "outputs": [],
   "source": [
    "#confusion_matrix(y_test,y_pred)"
   ]
  },
  {
   "cell_type": "code",
   "execution_count": 20,
   "metadata": {},
   "outputs": [],
   "source": [
    "from sklearn.metrics import classification_report"
   ]
  },
  {
   "cell_type": "code",
   "execution_count": 21,
   "metadata": {},
   "outputs": [],
   "source": [
    "#classification_report(y_test,y_pred)"
   ]
  },
  {
   "cell_type": "code",
   "execution_count": 22,
   "metadata": {},
   "outputs": [
    {
     "data": {
      "text/plain": [
       "-0.03296837458870261"
      ]
     },
     "execution_count": 22,
     "metadata": {},
     "output_type": "execute_result"
    }
   ],
   "source": [
    "from sklearn.metrics import r2_score, mean_absolute_error, mean_squared_error\n",
    "\n",
    "r2_score(y_test, y_pred)"
   ]
  },
  {
   "cell_type": "code",
   "execution_count": 23,
   "metadata": {},
   "outputs": [
    {
     "data": {
      "text/plain": [
       "0.7524986072510335"
      ]
     },
     "execution_count": 23,
     "metadata": {},
     "output_type": "execute_result"
    }
   ],
   "source": [
    "mean_absolute_error(y_test, y_pred)"
   ]
  },
  {
   "cell_type": "code",
   "execution_count": 26,
   "metadata": {},
   "outputs": [
    {
     "data": {
      "text/plain": [
       "1506.8475659358553"
      ]
     },
     "execution_count": 26,
     "metadata": {},
     "output_type": "execute_result"
    }
   ],
   "source": [
    "np.sum(y_pred)"
   ]
  },
  {
   "cell_type": "code",
   "execution_count": 27,
   "metadata": {},
   "outputs": [
    {
     "data": {
      "text/plain": [
       "1505.9"
      ]
     },
     "execution_count": 27,
     "metadata": {},
     "output_type": "execute_result"
    }
   ],
   "source": [
    "np.sum(y_test)"
   ]
  },
  {
   "cell_type": "code",
   "execution_count": null,
   "metadata": {},
   "outputs": [],
   "source": []
  }
 ],
 "metadata": {
  "kernelspec": {
   "display_name": "Python 3",
   "language": "python",
   "name": "python3"
  },
  "language_info": {
   "codemirror_mode": {
    "name": "ipython",
    "version": 3
   },
   "file_extension": ".py",
   "mimetype": "text/x-python",
   "name": "python",
   "nbconvert_exporter": "python",
   "pygments_lexer": "ipython3",
   "version": "3.7.6"
  }
 },
 "nbformat": 4,
 "nbformat_minor": 4
}
